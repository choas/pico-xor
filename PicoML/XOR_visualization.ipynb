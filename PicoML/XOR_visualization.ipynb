{
 "cells": [
  {
   "cell_type": "code",
   "execution_count": 1,
   "id": "intelligent-brooklyn",
   "metadata": {},
   "outputs": [],
   "source": [
    "%load_ext tensorboard"
   ]
  },
  {
   "cell_type": "code",
   "execution_count": 2,
   "id": "different-rainbow",
   "metadata": {},
   "outputs": [
    {
     "ename": "ModuleNotFoundError",
     "evalue": "No module named 'keras_visualizer'",
     "output_type": "error",
     "traceback": [
      "\u001b[0;31m---------------------------------------------------------------------------\u001b[0m",
      "\u001b[0;31mModuleNotFoundError\u001b[0m                       Traceback (most recent call last)",
      "Input \u001b[0;32mIn [2]\u001b[0m, in \u001b[0;36m<cell line: 5>\u001b[0;34m()\u001b[0m\n\u001b[1;32m      2\u001b[0m \u001b[38;5;28;01mimport\u001b[39;00m \u001b[38;5;21;01mtensorflow\u001b[39;00m \u001b[38;5;28;01mas\u001b[39;00m \u001b[38;5;21;01mtf\u001b[39;00m\n\u001b[1;32m      3\u001b[0m \u001b[38;5;28;01mfrom\u001b[39;00m \u001b[38;5;21;01mtensorflow\u001b[39;00m\u001b[38;5;21;01m.\u001b[39;00m\u001b[38;5;21;01mkeras\u001b[39;00m \u001b[38;5;28;01mimport\u001b[39;00m layers\n\u001b[0;32m----> 5\u001b[0m \u001b[38;5;28;01mfrom\u001b[39;00m \u001b[38;5;21;01mkeras_visualizer\u001b[39;00m \u001b[38;5;28;01mimport\u001b[39;00m visualizer\n\u001b[1;32m      6\u001b[0m \u001b[38;5;28;01mfrom\u001b[39;00m \u001b[38;5;21;01mIPython\u001b[39;00m\u001b[38;5;21;01m.\u001b[39;00m\u001b[38;5;21;01mdisplay\u001b[39;00m \u001b[38;5;28;01mimport\u001b[39;00m Image\n\u001b[1;32m      7\u001b[0m \u001b[38;5;28;01mimport\u001b[39;00m \u001b[38;5;21;01mtime\u001b[39;00m\n",
      "\u001b[0;31mModuleNotFoundError\u001b[0m: No module named 'keras_visualizer'"
     ]
    }
   ],
   "source": [
    "import numpy as np\n",
    "import tensorflow as tf\n",
    "from tensorflow.keras import layers\n",
    "\n",
    "from keras_visualizer import visualizer\n",
    "from IPython.display import Image\n",
    "import time\n",
    "import datetime"
   ]
  },
  {
   "cell_type": "code",
   "execution_count": null,
   "id": "elect-snapshot",
   "metadata": {
    "scrolled": true
   },
   "outputs": [],
   "source": [
    "tf.__version__"
   ]
  },
  {
   "cell_type": "code",
   "execution_count": null,
   "id": "3d00dded",
   "metadata": {},
   "outputs": [],
   "source": [
    "### ignore TensorFlow INFO messages\n",
    "import os\n",
    "os.environ['TF_CPP_MIN_LOG_LEVEL'] = '1'"
   ]
  },
  {
   "cell_type": "code",
   "execution_count": null,
   "id": "blind-smooth",
   "metadata": {},
   "outputs": [],
   "source": [
    "HIDDEN_LAYER_1 = 8\n",
    "HIDDEN_LAYER_2 = 0\n",
    "\n",
    "model = tf.keras.Sequential()\n",
    "model.add(layers.Dense(HIDDEN_LAYER_1, input_dim=2, activation='sigmoid'))\n",
    "\n",
    "if HIDDEN_LAYER_2 > 0:\n",
    "    model.add(layers.Dense(HIDDEN_LAYER_2, activation='sigmoid'))\n",
    "\n",
    "model.add(layers.Dense(1, activation='sigmoid'))"
   ]
  },
  {
   "cell_type": "code",
   "execution_count": null,
   "id": "39247266",
   "metadata": {},
   "outputs": [],
   "source": [
    "model.summary()"
   ]
  },
  {
   "cell_type": "code",
   "execution_count": null,
   "id": "c8163168",
   "metadata": {},
   "outputs": [],
   "source": [
    "logdir = os.path.join(\"logs\", datetime.datetime.now().strftime(\"%Y%m%d-%H%M%S\"), \"%d_%d\" % (HIDDEN_LAYER_1, HIDDEN_LAYER_2))\n",
    "tensorboard_callback = tf.keras.callbacks.TensorBoard(logdir, histogram_freq=1)"
   ]
  },
  {
   "cell_type": "code",
   "execution_count": null,
   "id": "d997a986",
   "metadata": {},
   "outputs": [],
   "source": [
    "# dot muss im env/bin Verzeichnis sein, beim Starten des Jupyter Notebooks\n",
    "visualizer(model, format='svg', view=False)\n",
    "Image(url=f'graph.svg?{str(int(time.time()))}')"
   ]
  },
  {
   "cell_type": "code",
   "execution_count": null,
   "id": "da0b53bf",
   "metadata": {},
   "outputs": [],
   "source": [
    "model.compile(\n",
    "  loss='binary_crossentropy', \n",
    "  optimizer=tf.keras.optimizers.SGD(learning_rate=1), \n",
    "  metrics=['accuracy'])"
   ]
  },
  {
   "cell_type": "code",
   "execution_count": null,
   "id": "broadband-marijuana",
   "metadata": {},
   "outputs": [],
   "source": [
    "training_data = np.array([[0,0], [0,1], [1,0], [1,1]])\n",
    "target_data   = np.array([  [0],   [1],   [1],   [0]])"
   ]
  },
  {
   "cell_type": "code",
   "execution_count": null,
   "id": "composite-screening",
   "metadata": {},
   "outputs": [],
   "source": [
    "epochs = 750\n",
    "if HIDDEN_LAYER_2 > 0:\n",
    "    epochs = 1500\n",
    "\n",
    "t1 = time.time()\n",
    "model.fit(training_data,\n",
    "          target_data, \n",
    "          callbacks=[tensorboard_callback], \n",
    "          epochs=epochs)\n",
    "t2 = time.time()"
   ]
  },
  {
   "cell_type": "code",
   "execution_count": null,
   "id": "496b9f62",
   "metadata": {},
   "outputs": [],
   "source": [
    "print(\"time %f.3\" % (t2 - t1))"
   ]
  },
  {
   "cell_type": "code",
   "execution_count": null,
   "id": "characteristic-pulse",
   "metadata": {},
   "outputs": [],
   "source": [
    "model.predict(training_data)"
   ]
  },
  {
   "cell_type": "markdown",
   "id": "84e26989",
   "metadata": {},
   "source": [
    "## Generate model.cpp"
   ]
  },
  {
   "cell_type": "code",
   "execution_count": null,
   "id": "b8429923",
   "metadata": {},
   "outputs": [],
   "source": [
    "from tinymlgen import port\n",
    "import os"
   ]
  },
  {
   "cell_type": "code",
   "execution_count": null,
   "id": "a3d2b005",
   "metadata": {},
   "outputs": [],
   "source": [
    "path = \"../pico-tflmicro/examples/xor\""
   ]
  },
  {
   "cell_type": "code",
   "execution_count": null,
   "id": "05d85595",
   "metadata": {
    "scrolled": true
   },
   "outputs": [],
   "source": [
    "c_code = port(model, optimize=False, pretty_print = True)\n",
    "\n",
    "open(path + \"/model.cpp\", \"w\").write('#include \"model.h\"\\n' + c_code)"
   ]
  },
  {
   "cell_type": "markdown",
   "id": "3668eea9",
   "metadata": {},
   "source": [
    "<pre>\n",
    "\n",
    "\n",
    "\n",
    "\n",
    "\n",
    "\n",
    "\n",
    "</pre>\n",
    "## Save tflite file and code generation"
   ]
  },
  {
   "cell_type": "code",
   "execution_count": null,
   "id": "620c844a",
   "metadata": {},
   "outputs": [],
   "source": [
    "### see https://github.com/eloquentarduino/tinymlgen\n",
    "\n",
    "import re\n",
    "import hexdump\n",
    "\n",
    "def my_port(tflite_model, variable_name='model_data', pretty_print=True):\n",
    "    bytes = hexdump.dump(tflite_model).split(' ')\n",
    "    c_array = ', '.join(['0x%02x' % int(byte, 16) for byte in bytes])\n",
    "    c = 'const unsigned char %s[] DATA_ALIGN_ATTRIBUTE = {%s};' % (variable_name, c_array)\n",
    "    if pretty_print:\n",
    "        c = c.replace('{', '{\\n\\t').replace('}', '\\n}')\n",
    "        c = re.sub(r'(0x..?, ){12}', lambda x: '%s\\n\\t' % x.group(0), c)\n",
    "    c += '\\nconst int %s_len = %d;' % (variable_name, len(bytes))\n",
    "    \n",
    "    preamble = '''\n",
    "#include \"model.h\"\n",
    "\n",
    "// if having troubles with min/max, uncomment the following\n",
    "// #undef min    \n",
    "// #undef max\n",
    "#ifdef __has_attribute\n",
    "#define HAVE_ATTRIBUTE(x) __has_attribute(x)\n",
    "#else\n",
    "#define HAVE_ATTRIBUTE(x) 0\n",
    "#endif\n",
    "#if HAVE_ATTRIBUTE(aligned) || (defined(__GNUC__) && !defined(__clang__))\n",
    "#define DATA_ALIGN_ATTRIBUTE __attribute__((aligned(4)))\n",
    "#else\n",
    "#define DATA_ALIGN_ATTRIBUTE\n",
    "#endif\n",
    "'''\n",
    "    return preamble + c\n"
   ]
  },
  {
   "cell_type": "code",
   "execution_count": null,
   "id": "62a07ead",
   "metadata": {},
   "outputs": [],
   "source": [
    "def get_filename(optimizer):\n",
    "    optimezedStr = \"_optimized\" if optimizer else \"\"\n",
    "    return path + \"/model_%d_%d%s.tflite\" % (HIDDEN_LAYER_1, HIDDEN_LAYER_2, optimezedStr)"
   ]
  },
  {
   "cell_type": "code",
   "execution_count": null,
   "id": "bf8473ff",
   "metadata": {},
   "outputs": [],
   "source": [
    "def save_tflite(model, optimizer=True):\n",
    "    converter = tf.lite.TFLiteConverter.from_keras_model(model)\n",
    "    if optimizer:\n",
    "        optimizers = [tf.lite.Optimize.DEFAULT]        \n",
    "        converter.optimizations = optimizers\n",
    "        \n",
    "        def representative_dataset():\n",
    "            data = training_data\n",
    "            yield [data.astype(np.float32)]\n",
    "        \n",
    "        converter.representative_dataset = representative_dataset\n",
    "\n",
    "    filename = get_filename(optimizer)\n",
    "\n",
    "    tflite_model = converter.convert()\n",
    "    print(\"%s %d bytes\" % (filename, len(tflite_model)))\n",
    "\n",
    "    with open(filename, 'wb') as f:\n",
    "      f.write(tflite_model)\n",
    "    \n",
    "    code = my_port(tflite_model)\n",
    "    open(filename + \".cpp\", \"w\").write(code)"
   ]
  },
  {
   "cell_type": "code",
   "execution_count": null,
   "id": "10382766",
   "metadata": {},
   "outputs": [],
   "source": [
    "save_tflite(model, optimizer=True)"
   ]
  },
  {
   "cell_type": "code",
   "execution_count": null,
   "id": "eee4f54f",
   "metadata": {},
   "outputs": [],
   "source": [
    "save_tflite(model, optimizer=False)"
   ]
  },
  {
   "cell_type": "markdown",
   "id": "da1d5376",
   "metadata": {},
   "source": [
    "## Predict tflite files"
   ]
  },
  {
   "cell_type": "code",
   "execution_count": null,
   "id": "d273014d",
   "metadata": {},
   "outputs": [],
   "source": [
    "def predict_tflite(optimizer):\n",
    "    filename = get_filename(optimizer)\n",
    "    interpreter = tf.lite.Interpreter(model_path=filename)\n",
    "    interpreter.allocate_tensors()\n",
    "\n",
    "    input_index = interpreter.get_input_details()[0][\"index\"]\n",
    "    output_index = interpreter.get_output_details()[0][\"index\"]\n",
    "\n",
    "    data = [[tf.cast(0.0, tf.float32), tf.cast(0.0, tf.float32)]]\n",
    "\n",
    "    interpreter.set_tensor(input_index, data)\n",
    "    interpreter.invoke()\n",
    "    pred = interpreter.get_tensor(output_index)\n",
    "    print(\"%s %f\" % (filename, pred))\n",
    "\n",
    "    \n",
    "predict_tflite(optimizer=False)\n",
    "predict_tflite(optimizer=True)"
   ]
  },
  {
   "cell_type": "code",
   "execution_count": null,
   "id": "0fa22f14",
   "metadata": {},
   "outputs": [],
   "source": []
  }
 ],
 "metadata": {
  "kernelspec": {
   "display_name": "Python 3 (ipykernel)",
   "language": "python",
   "name": "python3"
  },
  "language_info": {
   "codemirror_mode": {
    "name": "ipython",
    "version": 3
   },
   "file_extension": ".py",
   "mimetype": "text/x-python",
   "name": "python",
   "nbconvert_exporter": "python",
   "pygments_lexer": "ipython3",
   "version": "3.9.13"
  }
 },
 "nbformat": 4,
 "nbformat_minor": 5
}
